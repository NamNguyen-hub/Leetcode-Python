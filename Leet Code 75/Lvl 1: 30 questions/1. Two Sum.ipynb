{
 "cells": [
  {
   "cell_type": "markdown",
   "id": "603c851f",
   "metadata": {},
   "source": [
    "# 1. Two Sum\n",
    "\n",
    "Given an array of integers nums and an integer target, return indices of the two numbers such that they add up to target.\n",
    "\n",
    "You may assume that each input would have exactly one solution, and you may not use the same element twice.\n",
    "\n",
    "You can return the answer in any order.\n",
    "\n",
    " \n",
    "\n",
    "Example 1:\n",
    "\n",
    "Input: nums = [2,7,11,15], target = 9\n",
    "Output: [0,1]\n",
    "Explanation: Because nums[0] + nums[1] == 9, we return [0, 1].\n",
    "\n",
    "Example 2:\n",
    "\n",
    "Input: nums = [3,2,4], target = 6\n",
    "Output: [1,2]\n",
    "\n",
    "Example 3:\n",
    "\n",
    "Input: nums = [3,3], target = 6\n",
    "Output: [0,1]\n"
   ]
  },
  {
   "cell_type": "markdown",
   "id": "e45ef63b",
   "metadata": {},
   "source": [
    "## Solutions\n",
    "### Leetcode discussion"
   ]
  },
  {
   "cell_type": "code",
   "execution_count": 3,
   "id": "3db4be0d",
   "metadata": {},
   "outputs": [
    {
     "data": {
      "text/plain": [
       "[1, 0]"
      ]
     },
     "execution_count": 3,
     "metadata": {},
     "output_type": "execute_result"
    }
   ],
   "source": [
    "from typing import List\n",
    "\n",
    "#Leetcode discussion: user1400Al\n",
    "class Solution:\n",
    "    def twoSum(self, nums: List[int], target: int) -> List[int]:\n",
    "        seen = {}\n",
    "        for i, value in enumerate(nums):\n",
    "            remaining = target - nums[i]\n",
    "\n",
    "            if remaining in seen:\n",
    "                return [i, seen[remaining]]\n",
    "\n",
    "            seen[value] = i \n",
    "\n",
    "Solution().twoSum([2,7,11,15], 9)"
   ]
  },
  {
   "cell_type": "markdown",
   "id": "2c4186f0",
   "metadata": {},
   "source": [
    "### Explanation\n",
    "\n",
    "brute force search.\n",
    "\n",
    "Finally, another approach that can be used to solve the Two Sum problem is to use a brute force search. This approach works by iterating through all pairs of numbers in the array and checking if their sum equals the target sum. The time complexity of this approach is O(n^2), which makes it less efficient than other methods.\n",
    "\n",
    "hash table\n",
    "\n",
    "The most common method for solving the Two Sum problem is to use a hash table. This approach works by iterating through the array of numbers and inserting each number into a hash table. If the number being inserted is already in the hash table, then it is considered a sum. The time complexity of this approach is O(n), where n is the size of the array.\n",
    "\n",
    "two pointers\n",
    "\n",
    "Another approach that can be used to solve the Two Sum problem is to sort the array and then use two pointers, one from each end of the array, to find the sum. This approach has a time complexity of O(n log n) due to the need to sort the array."
   ]
  }
 ],
 "metadata": {
  "kernelspec": {
   "display_name": "Python 3.8.13 ('base')",
   "language": "python",
   "name": "python3"
  },
  "language_info": {
   "codemirror_mode": {
    "name": "ipython",
    "version": 3
   },
   "file_extension": ".py",
   "mimetype": "text/x-python",
   "name": "python",
   "nbconvert_exporter": "python",
   "pygments_lexer": "ipython3",
   "version": "3.8.13"
  },
  "vscode": {
   "interpreter": {
    "hash": "ce87941127ebb49f8fb40badc0833c68a27000a4dbeb615717b39f2832df4987"
   }
  }
 },
 "nbformat": 4,
 "nbformat_minor": 5
}
