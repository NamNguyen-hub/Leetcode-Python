{
 "cells": [
  {
   "cell_type": "markdown",
   "id": "603c851f",
   "metadata": {},
   "source": [
    "# 1046. Last Stone Weight\n",
    "#easy\n",
    "\n",
    "You are given an array of integers stones where stones[i] is the weight of the ith stone.\n",
    "\n",
    "We are playing a game with the stones. On each turn, we choose the heaviest two stones and smash them together. Suppose the heaviest two stones have weights x and y with x <= y. The result of this smash is:\n",
    "\n",
    "If x == y, both stones are destroyed, and\n",
    "If x != y, the stone of weight x is destroyed, and the stone of weight y has new weight y - x.\n",
    "At the end of the game, there is at most one stone left.\n",
    "\n",
    "Return the weight of the last remaining stone. If there are no stones left, return 0.\n",
    "\n",
    " \n",
    "\n",
    "Example 1:\n",
    "\n",
    "Input: stones = [2,7,4,1,8,1]\n",
    "Output: 1\n",
    "Explanation: \n",
    "We combine 7 and 8 to get 1 so the array converts to [2,4,1,1,1] then,\n",
    "we combine 2 and 4 to get 2 so the array converts to [2,1,1,1] then,\n",
    "we combine 2 and 1 to get 1 so the array converts to [1,1,1] then,\n",
    "we combine 1 and 1 to get 0 so the array converts to [1] then that's the value of the last stone.\n",
    "Example 2:\n",
    "\n",
    "Input: stones = [1]\n",
    "Output: 1\n"
   ]
  },
  {
   "cell_type": "markdown",
   "id": "e45ef63b",
   "metadata": {},
   "source": [
    "# Solutions"
   ]
  },
  {
   "cell_type": "markdown",
   "id": "7868d3cf",
   "metadata": {},
   "source": [
    "TC: O(nlogn); heappush() and heappop() both have O(logn) time complexity, and are both nested in the while loop. Note: heapify() runs in O(n) time, hence the time complexity is not affected.\n",
    "SC: O(1); both the negation and the heapify are done in-place."
   ]
  },
  {
   "cell_type": "code",
   "execution_count": 5,
   "id": "f9bcce40",
   "metadata": {},
   "outputs": [
    {
     "data": {
      "text/plain": [
       "1"
      ]
     },
     "execution_count": 5,
     "metadata": {},
     "output_type": "execute_result"
    }
   ],
   "source": [
    "from typing import List\n",
    "from heapq import heapify, heappush, heappop\n",
    "\n",
    "class Solution:\n",
    "    def lastStoneWeight(self, stones: List[int]) -> int:\n",
    "        # first, negate all weight values in-place\n",
    "        for i, s in enumerate(stones):\n",
    "            stones[i] = -s\n",
    "        heapify(stones)  # pass all negated values into the min-heap\n",
    "        while stones:\n",
    "            s1 = -heappop(stones)  # the heaviest stone\n",
    "            if not stones:  # s1 is the remaining stone\n",
    "                return s1\n",
    "            s2 = -heappop(stones)  # the second-heaviest stone; s2 <= s1\n",
    "            if s1 > s2:\n",
    "                heappush(stones, s2-s1)  # push the NEGATED value of s1-s2; i.e., s2-s1\n",
    "            # else s1 == s2; both stones are destroyed\n",
    "        return 0  # if no more stones remain\n",
    "\n",
    "Solution().lastStoneWeight([2,7,4,1,8,1])"
   ]
  },
  {
   "cell_type": "code",
   "execution_count": 9,
   "id": "4de9cb96",
   "metadata": {},
   "outputs": [
    {
     "data": {
      "text/plain": [
       "1"
      ]
     },
     "execution_count": 9,
     "metadata": {},
     "output_type": "execute_result"
    }
   ],
   "source": [
    "Solution().lastStoneWeight([1,7,4,3,11,5])"
   ]
  },
  {
   "cell_type": "markdown",
   "id": "2c4186f0",
   "metadata": {},
   "source": [
    "## Explanation"
   ]
  },
  {
   "cell_type": "markdown",
   "id": "05801aae",
   "metadata": {},
   "source": [
    "Introduction\n",
    "Given an array of stones stones, we repeatedly \"smash\" (i.e., compare) the two heaviest stones together until there is at most one stone left. If the two heaviest stones are of the same weight, both stones are \"destroyed\" (i.e., both weights become 0), otherwise, a stone with the absolute weight difference of both stones will remain.\n",
    "\n",
    "Note that the order in which the stones are \"smashed\" needs to be followed strictly. Otherwise, we will not end up with the correct weight of the remaining stone, if any.\n",
    "\n",
    "arr = [2, 7, 4, 1, 8, 1]\n",
    "\n",
    "CORRECT METHOD\n",
    "1) Smash 8 and 7 -> arr = [2, 4, 1, 1, 1]\n",
    "2) Smash 4 and 2 -> arr = [2, 1, 1, 1]\n",
    "3) Smash 2 and 1 -> arr = [1, 1, 1]\n",
    "4) Smash 1 and 1 -> arr = [1]\n",
    "\n",
    "WRONG METHOD #1 (according to index ordering)\n",
    "1) Smash 2 and 7 -> arr = [5, 4, 1, 8, 1]\n",
    "2) Smash 5 and 4 -> arr = [1, 1, 8, 1]\n",
    "3) Smash 1 and 1 -> arr = [8, 1]\n",
    "4) Smash 8 and 1 -> arr = [7]\n",
    "\n",
    "WRONG METHOD #2 (in ascending order)\n",
    "1) Smash 1 and 1 -> arr = [2, 7, 4, 8]\n",
    "2) Smash 2 and 4 -> arr = [2, 7, 8]\n",
    "3) Smash 2 and 7 -> arr = [5, 8]\n",
    "4) Smash 5 and 8 -> arr = [3]\n",
    "Base Approach - Sort and Insert\n",
    "Since we are required to \"smash\" the two heaviest stones, we need to know which two stones are the heaviest, and for all iterations. As such, we will first have to sort the stones in order by weight in order to compare the two heaviest stones.\n",
    "\n",
    "class Solution:\n",
    "    def lastStoneWeight(self, stones: List[int]) -> int:\n",
    "        stones.sort()\n",
    "        while stones:\n",
    "            s1 = stones.pop()  # the heaviest stone\n",
    "            if not stones:  # s1 is the remaining stone\n",
    "                return s1\n",
    "            s2 = stones.pop()  # the second-heaviest stone; s2 <= s1\n",
    "            if s1 > s2:\n",
    "                # we need to insert the remaining stone (s1-s2) into the list\n",
    "                pass\n",
    "            # else s1 == s2; both stones are destroyed\n",
    "        return 0  # if no more stones remain\n",
    "All that remains now is how we can insert the stone from the \"smashing\" of the two heaviest stones back into stones. The simplest method is to loop through stones and insert the stone in the correct index.\n",
    "\n",
    "\n",
    "class Solution:\n",
    "    def lastStoneWeight(self, stones: List[int]) -> int:\n",
    "        stones.sort()\n",
    "        while stones:\n",
    "            s1 = stones.pop()  # the heaviest stone\n",
    "            if not stones:  # s1 is the remaining stone\n",
    "                return s1\n",
    "            s2 = stones.pop()  # the second-heaviest stone; s2 <= s1\n",
    "            if s1 > s2:\n",
    "                # the remaining stone will be s1-s2\n",
    "                # loop through stones to find the index to insert the stone\n",
    "                for i in range(len(stones)+1):\n",
    "                    if i == len(stones) or stones[i] >= s1-s2:\n",
    "                        stones.insert(i, s1-s2)\n",
    "                        break\n",
    "            # else s1 == s2; both stones are destroyed\n",
    "        return 0  # if no more stones remain\n",
    "TC: O(n2), where n is the length of stones, due to the nested inserts.\n",
    "SC: O(1), no additonal data structures are used.\n",
    "\n",
    "Slight Optimisation - Binary Search Insert\n",
    "An \"optimisation\" from the above method to find the index to insert the remaining stone is to binary search for the index to insert to instead of looping through stones manually. This involves Python's bisect library which has a pre-written function to help us do just that.\n",
    "\n",
    "Note that we only need to change one portion of the code; the remaining code logic is the same.\n",
    "\n",
    "class Solution:\n",
    "    def lastStoneWeight(self, stones: List[int]) -> int:\n",
    "        stones.sort()\n",
    "        while stones:\n",
    "            s1 = stones.pop()  # the heaviest stone\n",
    "            if not stones:  # s1 is the remaining stone\n",
    "                return s1\n",
    "            s2 = stones.pop()  # the second-heaviest stone; s2 <= s1\n",
    "            if s1 > s2:\n",
    "                # the remaining stone will be s1-s2\n",
    "                # binary-insert the remaining stone into stones\n",
    "                insort_left(stones, s1-s2)\n",
    "            # else s1 == s2; both stones are destroyed\n",
    "        return 0  # if no more stones remain\n",
    "TC: O(n2). Even though binary searching for the index to insert to takes O(logn) time, the insert function alone takes O(n) time because it needs to shift all the elements after the index to the right by 1. As such, the overall time complexity for insort_left() is O(n).\n",
    "SC: O(1), as discussed above.\n",
    "\n",
    "Data Structure - Heap Implementation\n",
    "Unfortunately, due to the implementation of the list data structure, even the binary search optimisation cannot break free of the O(n) insert. If only there was a data structure that could help us sort and insert automatically without having to rely on a heavier insert function...\n",
    "\n",
    "Python has an in-built heap library that is perfect for this task. Essentially, all we need to do is insert the elements, and the heap will settle the sorting order for us. Unfortunately, Python's heap library implements a min-heap instead of a max-heap, whereby popping will give us the lightest stone instead of the heaviest stone.\n",
    "\n",
    "A standard (very common!) workaround is to negate all the weight values of the stones. This way, the heaviest stone has the most negative value, and hence becomes the smallest value in the heap. Then, all we have to do after obtaining the value from the heap is to un-negate the value to use it in our calculations.\n",
    "\n",
    "class Solution:\n",
    "    def lastStoneWeight(self, stones: List[int]) -> int:\n",
    "        # first, negate all weight values in-place\n",
    "        for i, s in enumerate(stones):\n",
    "            stones[i] = -s\n",
    "        heapify(stones)  # pass all negated values into the min-heap\n",
    "        while stones:\n",
    "            s1 = -heappop(stones)  # the heaviest stone\n",
    "            if not stones:  # s1 is the remaining stone\n",
    "                return s1\n",
    "            s2 = -heappop(stones)  # the second-heaviest stone; s2 <= s1\n",
    "            if s1 > s2:\n",
    "                heappush(stones, s2-s1)  # push the NEGATED value of s1-s2; i.e., s2-s1\n",
    "            # else s1 == s2; both stones are destroyed\n",
    "        return 0  # if no more stones remain\n",
    "TC: O(nlogn); heappush() and heappop() both have O(logn) time complexity, and are both nested in the while loop. Note: heapify() runs in O(n) time, hence the time complexity is not affected.\n",
    "SC: O(1); both the negation and the heapify are done in-place."
   ]
  }
 ],
 "metadata": {
  "kernelspec": {
   "display_name": "Python 3.8.13 ('base')",
   "language": "python",
   "name": "python3"
  },
  "language_info": {
   "codemirror_mode": {
    "name": "ipython",
    "version": 3
   },
   "file_extension": ".py",
   "mimetype": "text/x-python",
   "name": "python",
   "nbconvert_exporter": "python",
   "pygments_lexer": "ipython3",
   "version": "3.8.13"
  },
  "vscode": {
   "interpreter": {
    "hash": "ce87941127ebb49f8fb40badc0833c68a27000a4dbeb615717b39f2832df4987"
   }
  }
 },
 "nbformat": 4,
 "nbformat_minor": 5
}
