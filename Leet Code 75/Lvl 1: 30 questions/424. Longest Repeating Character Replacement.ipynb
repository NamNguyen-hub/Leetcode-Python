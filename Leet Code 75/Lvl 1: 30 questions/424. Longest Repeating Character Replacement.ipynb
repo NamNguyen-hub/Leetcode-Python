{
 "cells": [
  {
   "cell_type": "markdown",
   "metadata": {},
   "source": [
    "# 424. Longest Repeating Character Replacement\n"
   ]
  },
  {
   "cell_type": "markdown",
   "metadata": {},
   "source": [
    "You are given a string s and an integer k. You can choose any character of the string and change it to any other uppercase English character. You can perform this operation at most k times.\n",
    "\n",
    "Return the length of the longest substring containing the same letter you can get after performing the above operations.\n",
    "\n",
    " \n",
    "\n",
    "Example 1:\n",
    "\n",
    "Input: s = \"ABAB\", k = 2\n",
    "Output: 4\n",
    "Explanation: Replace the two 'A's with two 'B's or vice versa.\n",
    "Example 2:\n",
    "\n",
    "Input: s = \"AABABBA\", k = 1\n",
    "Output: 4\n",
    "Explanation: Replace the one 'A' in the middle with 'B' and form \"AABBBBA\".\n",
    "The substring \"BBBB\" has the longest repeating letters, which is 4."
   ]
  },
  {
   "cell_type": "markdown",
   "metadata": {},
   "source": [
    "Example 1:\n",
    "\n",
    "Input: s = \"cbaebabacd\", p = \"abc\"\n",
    "Output: [0,6]\n",
    "Explanation:\n",
    "The substring with start index = 0 is \"cba\", which is an anagram of \"abc\".\n",
    "The substring with start index = 6 is \"bac\", which is an anagram of \"abc\"."
   ]
  },
  {
   "cell_type": "markdown",
   "metadata": {},
   "source": [
    "Example 2\n",
    "\n",
    "Input: s = \"abab\", p = \"ab\"\n",
    "Output: [0,1,2]\n",
    "Explanation:\n",
    "The substring with start index = 0 is \"ab\", which is an anagram of \"ab\".\n",
    "The substring with start index = 1 is \"ba\", which is an anagram of \"ab\".\n",
    "The substring with start index = 2 is \"ab\", which is an anagram of \"ab\"."
   ]
  },
  {
   "cell_type": "markdown",
   "metadata": {},
   "source": [
    "# Solutions"
   ]
  },
  {
   "cell_type": "markdown",
   "metadata": {},
   "source": [
    "### 1. Leet Code Discussion - Artod\n",
    "#### Complexity\n",
    "**Time: O()** - \\\n",
    "**Space: O()** - "
   ]
  },
  {
   "cell_type": "code",
   "execution_count": 1,
   "metadata": {},
   "outputs": [],
   "source": [
    "# Leetcode discussion - sunmorgan\n",
    "class Solution:\n",
    "\tdef characterReplacement(self, s: str, k: int) -> int:\n",
    "\t\tvisited = {}\n",
    "\t\tres = 0\n",
    "\t\tl = 0\n",
    "\t\tfreq = 0\n",
    "\n",
    "\t\tfor r in range(len(s)):\n",
    "\t\t\tvisited[s[r]] = 1 + visited.get(s[r], 0)\n",
    "\t\t\tfreq = max(freq, visited[s[r]])\n",
    "\n",
    "\t\t\twhile (r - l + 1) - freq> k:\n",
    "\t\t\t\tvisited[s[l]] -= 1\n",
    "\t\t\t\tl += 1\n",
    "\n",
    "\t\t\tres = max(res, r - l + 1)\n",
    "\n",
    "\t\treturn res\n"
   ]
  },
  {
   "cell_type": "code",
   "execution_count": 2,
   "metadata": {},
   "outputs": [
    {
     "data": {
      "text/plain": [
       "4"
      ]
     },
     "execution_count": 2,
     "metadata": {},
     "output_type": "execute_result"
    }
   ],
   "source": [
    "s = \"ABAB\"\n",
    "k = 2\n",
    "\n",
    "Solution().characterReplacement(s,k)"
   ]
  },
  {
   "cell_type": "code",
   "execution_count": 4,
   "metadata": {},
   "outputs": [
    {
     "data": {
      "text/plain": [
       "4"
      ]
     },
     "execution_count": 4,
     "metadata": {},
     "output_type": "execute_result"
    }
   ],
   "source": [
    "s = \"AABABBA\"\n",
    "k = 1\n",
    "Solution().characterReplacement(s,k)"
   ]
  },
  {
   "cell_type": "markdown",
   "metadata": {},
   "source": [
    "#### Explanation\n",
    "Essentially in this sliding window solution, we want to expand our window while updating our result simutaneously until the window is no longer valid. How do we determine whether a window is valid or not? From the premise, we know that the # of characters being switched out cannot be greater than k. So in our window, we are going to take the max value of the # needed to switch out from the group of characters. For example:\n",
    "\n",
    "AABA, the maximum # is 3, and 4 - 3 = 1, which is less than 2.\n",
    "\n",
    "So why do we need the maximum value? This takes a bit of inverse thinking, if we take subtract the max value with the length of the window, that prompts us the minimum # of characters needed to switch out.\n",
    "\n",
    "To keep track of the maximum frequence, I've created the variable called \"freq\". freq will capture the maximum number of times a character appears by comparing it with the most recently inserted character\n",
    "\n",
    "We could update the maximum size of the subarray by subtracting the right pointer with the left."
   ]
  }
 ],
 "metadata": {
  "kernelspec": {
   "display_name": "Python 3.10.6 64-bit",
   "language": "python",
   "name": "python3"
  },
  "language_info": {
   "codemirror_mode": {
    "name": "ipython",
    "version": 3
   },
   "file_extension": ".py",
   "mimetype": "text/x-python",
   "name": "python",
   "nbconvert_exporter": "python",
   "pygments_lexer": "ipython3",
   "version": "3.10.6"
  },
  "orig_nbformat": 4,
  "vscode": {
   "interpreter": {
    "hash": "b0fa6594d8f4cbf19f97940f81e996739fb7646882a419484c72d19e05852a7e"
   }
  }
 },
 "nbformat": 4,
 "nbformat_minor": 2
}
