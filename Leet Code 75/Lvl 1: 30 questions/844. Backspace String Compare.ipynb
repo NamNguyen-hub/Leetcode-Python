{
 "cells": [
  {
   "cell_type": "markdown",
   "id": "603c851f",
   "metadata": {},
   "source": [
    "# 844. Backspace String Compare\n",
    "#easy\n",
    "\n",
    "Given two strings s and t, return true if they are equal when both are typed into empty text editors. '#' means a backspace character.\n",
    "\n",
    "Note that after backspacing an empty text, the text will continue empty.\n",
    "\n",
    " \n",
    "\n",
    "Example 1:\n",
    "\n",
    "Input: s = \"ab#c\", t = \"ad#c\"\n",
    "Output: true\n",
    "Explanation: Both s and t become \"ac\".\n",
    "Example 2:\n",
    "\n",
    "Input: s = \"ab##\", t = \"c#d#\"\n",
    "Output: true\n",
    "Explanation: Both s and t become \"\".\n",
    "Example 3:\n",
    "\n",
    "Input: s = \"a#c\", t = \"b\"\n",
    "Output: false\n",
    "Explanation: s becomes \"c\" while t becomes \"b\".\n"
   ]
  },
  {
   "cell_type": "markdown",
   "id": "e45ef63b",
   "metadata": {},
   "source": [
    "# Solutions"
   ]
  },
  {
   "cell_type": "code",
   "execution_count": 1,
   "id": "0a17cb2e",
   "metadata": {},
   "outputs": [
    {
     "data": {
      "text/plain": [
       "True"
      ]
     },
     "execution_count": 1,
     "metadata": {},
     "output_type": "execute_result"
    }
   ],
   "source": [
    "# - pniraj657\n",
    "class Solution:\n",
    "    def backspaceCompare(self, s: str, t: str) -> bool:\n",
    "        s_backspaced = []\n",
    "        t_backspaced = []\n",
    "        \n",
    "        for i in range(len(s)):\n",
    "            if s[i] == '#':\n",
    "                if s_backspaced:\n",
    "                    s_backspaced.pop()\n",
    "            else:\n",
    "                s_backspaced.append(s[i])\n",
    "            \n",
    "        for i in range(len(t)):\n",
    "            if t[i] == '#':\n",
    "                if t_backspaced:\n",
    "                    t_backspaced.pop()\n",
    "            else:\n",
    "                t_backspaced.append(t[i])\n",
    "        \n",
    "        return s_backspaced == t_backspaced\n",
    "\n",
    "Solution().backspaceCompare(\"ab#c\", \"ad#c\")"
   ]
  },
  {
   "cell_type": "markdown",
   "id": "2c4186f0",
   "metadata": {},
   "source": [
    "## Explanation"
   ]
  }
 ],
 "metadata": {
  "kernelspec": {
   "display_name": "Python 3.8.13 ('base')",
   "language": "python",
   "name": "python3"
  },
  "language_info": {
   "codemirror_mode": {
    "name": "ipython",
    "version": 3
   },
   "file_extension": ".py",
   "mimetype": "text/x-python",
   "name": "python",
   "nbconvert_exporter": "python",
   "pygments_lexer": "ipython3",
   "version": "3.8.13"
  },
  "vscode": {
   "interpreter": {
    "hash": "ce87941127ebb49f8fb40badc0833c68a27000a4dbeb615717b39f2832df4987"
   }
  }
 },
 "nbformat": 4,
 "nbformat_minor": 5
}
