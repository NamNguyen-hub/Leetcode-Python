{
 "cells": [
  {
   "cell_type": "markdown",
   "id": "603c851f",
   "metadata": {},
   "source": [
    "# 299. Bulls and Cows\n",
    "\n",
    "You are playing the Bulls and Cows game with your friend.\n",
    "\n",
    "You write down a secret number and ask your friend to guess what the number is. When your friend makes a guess, you provide a hint with the following info:\n",
    "\n",
    "The number of \"bulls\", which are digits in the guess that are in the correct position.\n",
    "The number of \"cows\", which are digits in the guess that are in your secret number but are located in the wrong position. Specifically, the non-bull digits in the guess that could be rearranged such that they become bulls.\n",
    "Given the secret number secret and your friend's guess guess, return the hint for your friend's guess.\n",
    "\n",
    "The hint should be formatted as \"xAyB\", where x is the number of bulls and y is the number of cows. Note that both secret and guess may contain duplicate digits.\n",
    "\n",
    " \n",
    "\n",
    "Example 1:\n",
    "\n",
    "Input: secret = \"1807\", guess = \"7810\"\n",
    "Output: \"1A3B\"\n",
    "Explanation: Bulls are connected with a '|' and cows are underlined:\n",
    "\"1807\"\n",
    "  |\n",
    "\"7810\"\n",
    "\n",
    "Example 2:\n",
    "\n",
    "Input: secret = \"1123\", guess = \"0111\"\n",
    "Output: \"1A1B\"\n",
    "Explanation: Bulls are connected with a '|' and cows are underlined:\n",
    "\"1123\"        \"1123\"\n",
    "  |      or     |\n",
    "\"0111\"        \"0111\"\n",
    "Note that only one of the two unmatched 1s is counted as a cow since the non-bull digits can only be rearranged to allow one 1 to be a bull."
   ]
  },
  {
   "cell_type": "markdown",
   "id": "e45ef63b",
   "metadata": {},
   "source": [
    "# Solutions"
   ]
  },
  {
   "cell_type": "markdown",
   "id": "37af4d41",
   "metadata": {},
   "source": [
    "O(n) using Hashmap"
   ]
  },
  {
   "cell_type": "code",
   "execution_count": 2,
   "id": "b6fd1a2f",
   "metadata": {},
   "outputs": [
    {
     "data": {
      "text/plain": [
       "'1A3B'"
      ]
     },
     "execution_count": 2,
     "metadata": {},
     "output_type": "execute_result"
    }
   ],
   "source": [
    "## -pniraj657\n",
    "\n",
    "from collections import Counter\n",
    "\n",
    "class Solution:\n",
    "    def getHint(self, secret: str, guess: str) -> str:\n",
    "        # Dictionary for Lookup\n",
    "        lookup = Counter(secret)\n",
    "        \n",
    "        x, y = 0, 0\n",
    "        \n",
    "        # First finding numbers which are at correct position and updating x\n",
    "        for i in range(len(guess)):\n",
    "            if secret[i] == guess[i]:\n",
    "                x+=1\n",
    "                lookup[secret[i]]-=1\n",
    "        \n",
    "        # Finding numbers which are present in secret but not at correct position \n",
    "        for i in range(len(guess)):\n",
    "            if guess[i] in lookup and secret[i] != guess[i] and lookup[guess[i]]>0:\n",
    "                y+=1\n",
    "                lookup[guess[i]]-=1\n",
    "        \n",
    "\t\t# The reason for using two for loop is in this problem we have \n",
    "\t\t# to give first priority to number which are at correct position,\n",
    "\t\t# Therefore we are first updating x value\n",
    "\t\t\n",
    "        return \"{}A{}B\".format(x, y)\n",
    "\n",
    "Solution().getHint(\"1807\", \"7810\")"
   ]
  },
  {
   "cell_type": "markdown",
   "id": "2c4186f0",
   "metadata": {},
   "source": [
    "## Explanation"
   ]
  }
 ],
 "metadata": {
  "kernelspec": {
   "display_name": "Python 3.8.13 ('base')",
   "language": "python",
   "name": "python3"
  },
  "language_info": {
   "codemirror_mode": {
    "name": "ipython",
    "version": 3
   },
   "file_extension": ".py",
   "mimetype": "text/x-python",
   "name": "python",
   "nbconvert_exporter": "python",
   "pygments_lexer": "ipython3",
   "version": "3.8.13"
  },
  "vscode": {
   "interpreter": {
    "hash": "ce87941127ebb49f8fb40badc0833c68a27000a4dbeb615717b39f2832df4987"
   }
  }
 },
 "nbformat": 4,
 "nbformat_minor": 5
}
