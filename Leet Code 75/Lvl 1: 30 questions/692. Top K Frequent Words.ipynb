{
 "cells": [
  {
   "cell_type": "markdown",
   "id": "603c851f",
   "metadata": {},
   "source": [
    "# 692. Top K Frequent Words\n",
    "#medium\n",
    "\n",
    "Given an array of strings words and an integer k, return the k most frequent strings.\n",
    "\n",
    "Return the answer sorted by the frequency from highest to lowest. Sort the words with the same frequency by their lexicographical order.\n",
    "\n",
    " \n",
    "\n",
    "Example 1:\n",
    "\n",
    "Input: words = [\"i\",\"love\",\"leetcode\",\"i\",\"love\",\"coding\"], k = 2\n",
    "Output: [\"i\",\"love\"]\n",
    "Explanation: \"i\" and \"love\" are the two most frequent words.\n",
    "Note that \"i\" comes before \"love\" due to a lower alphabetical order.\n",
    "Example 2:\n",
    "\n",
    "Input: words = [\"the\",\"day\",\"is\",\"sunny\",\"the\",\"the\",\"the\",\"sunny\",\"is\",\"is\"], k = 4\n",
    "Output: [\"the\",\"is\",\"sunny\",\"day\"]\n",
    "Explanation: \"the\", \"is\", \"sunny\" and \"day\" are the four most frequent words, with the number of occurrence being 4, 3, 2 and 1 respectively."
   ]
  },
  {
   "cell_type": "markdown",
   "id": "e45ef63b",
   "metadata": {},
   "source": [
    "# Solutions"
   ]
  },
  {
   "cell_type": "code",
   "execution_count": 1,
   "id": "c905225b",
   "metadata": {},
   "outputs": [],
   "source": [
    "from collections import Counter\n",
    "from typing import List\n",
    "\n",
    "class Solution:\n",
    "    def topKFrequent(self, words: List[str], k: int) -> List[str]:\n",
    "        \n",
    "        # [1] Starting from Python 3.7, dictionary order is guaranteed \n",
    "        #     to be insertion order, thus, we can use 'sorted' first\n",
    "        return [w for w,_ in Counter(sorted(words)).most_common(k)]\n",
    "        \n",
    "        # [2] Other one-liners are also possible, e.g.,\n",
    "        #     return list(zip(*Counter(sorted(words)).most_common(k)))[0]"
   ]
  },
  {
   "cell_type": "code",
   "execution_count": 2,
   "id": "18f51775",
   "metadata": {},
   "outputs": [
    {
     "data": {
      "text/plain": [
       "['i', 'love']"
      ]
     },
     "execution_count": 2,
     "metadata": {},
     "output_type": "execute_result"
    }
   ],
   "source": [
    "Solution().topKFrequent([\"i\", \"love\", \"leetcode\", \"i\", \"love\", \"coding\"], 2)"
   ]
  },
  {
   "cell_type": "markdown",
   "id": "2c4186f0",
   "metadata": {},
   "source": [
    "## Explanation\n",
    "Python. This solution employs Counter to obtain sorted word frequencies. It demonstrated 54 ms runtime (97.95%) and used 13.9 MB memory (94.22%). Time complexity is log-linear: O(N*logN). Space complexity is linear: O(N)."
   ]
  }
 ],
 "metadata": {
  "kernelspec": {
   "display_name": "Python 3.8.13 ('base')",
   "language": "python",
   "name": "python3"
  },
  "language_info": {
   "codemirror_mode": {
    "name": "ipython",
    "version": 3
   },
   "file_extension": ".py",
   "mimetype": "text/x-python",
   "name": "python",
   "nbconvert_exporter": "python",
   "pygments_lexer": "ipython3",
   "version": "3.8.13"
  },
  "vscode": {
   "interpreter": {
    "hash": "ce87941127ebb49f8fb40badc0833c68a27000a4dbeb615717b39f2832df4987"
   }
  }
 },
 "nbformat": 4,
 "nbformat_minor": 5
}
